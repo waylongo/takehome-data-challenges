{
 "cells": [
  {
   "cell_type": "code",
   "execution_count": 1,
   "metadata": {
    "ExecuteTime": {
     "end_time": "2020-03-02T23:53:31.717227Z",
     "start_time": "2020-03-02T23:53:31.450988Z"
    }
   },
   "outputs": [],
   "source": [
    "import numpy as np\n",
    "import pandas as pd\n",
    "import matplotlib.pyplot as plt\n",
    "\n",
    "pd.set_option('display.max_columns', 20)\n",
    "pd.set_option('display.width', 350)"
   ]
  },
  {
   "cell_type": "code",
   "execution_count": 2,
   "metadata": {
    "ExecuteTime": {
     "end_time": "2020-03-02T23:54:33.774314Z",
     "start_time": "2020-03-02T23:54:33.746580Z"
    }
   },
   "outputs": [
    {
     "name": "stdout",
     "output_type": "stream",
     "text": [
      "(24702, 7)\n"
     ]
    },
    {
     "data": {
      "text/html": [
       "<div>\n",
       "<style scoped>\n",
       "    .dataframe tbody tr th:only-of-type {\n",
       "        vertical-align: middle;\n",
       "    }\n",
       "\n",
       "    .dataframe tbody tr th {\n",
       "        vertical-align: top;\n",
       "    }\n",
       "\n",
       "    .dataframe thead th {\n",
       "        text-align: right;\n",
       "    }\n",
       "</style>\n",
       "<table border=\"1\" class=\"dataframe\">\n",
       "  <thead>\n",
       "    <tr style=\"text-align: right;\">\n",
       "      <th></th>\n",
       "      <th>employee_id</th>\n",
       "      <th>company_id</th>\n",
       "      <th>dept</th>\n",
       "      <th>seniority</th>\n",
       "      <th>salary</th>\n",
       "      <th>join_date</th>\n",
       "      <th>quit_date</th>\n",
       "    </tr>\n",
       "  </thead>\n",
       "  <tbody>\n",
       "    <tr>\n",
       "      <th>0</th>\n",
       "      <td>13021.0</td>\n",
       "      <td>7</td>\n",
       "      <td>customer_service</td>\n",
       "      <td>28</td>\n",
       "      <td>89000.0</td>\n",
       "      <td>2014-03-24</td>\n",
       "      <td>2015-10-30</td>\n",
       "    </tr>\n",
       "    <tr>\n",
       "      <th>1</th>\n",
       "      <td>825355.0</td>\n",
       "      <td>7</td>\n",
       "      <td>marketing</td>\n",
       "      <td>20</td>\n",
       "      <td>183000.0</td>\n",
       "      <td>2013-04-29</td>\n",
       "      <td>2014-04-04</td>\n",
       "    </tr>\n",
       "    <tr>\n",
       "      <th>2</th>\n",
       "      <td>927315.0</td>\n",
       "      <td>4</td>\n",
       "      <td>marketing</td>\n",
       "      <td>14</td>\n",
       "      <td>101000.0</td>\n",
       "      <td>2014-10-13</td>\n",
       "      <td>NaN</td>\n",
       "    </tr>\n",
       "    <tr>\n",
       "      <th>3</th>\n",
       "      <td>662910.0</td>\n",
       "      <td>7</td>\n",
       "      <td>customer_service</td>\n",
       "      <td>20</td>\n",
       "      <td>115000.0</td>\n",
       "      <td>2012-05-14</td>\n",
       "      <td>2013-06-07</td>\n",
       "    </tr>\n",
       "    <tr>\n",
       "      <th>4</th>\n",
       "      <td>256971.0</td>\n",
       "      <td>2</td>\n",
       "      <td>data_science</td>\n",
       "      <td>23</td>\n",
       "      <td>276000.0</td>\n",
       "      <td>2011-10-17</td>\n",
       "      <td>2014-08-22</td>\n",
       "    </tr>\n",
       "  </tbody>\n",
       "</table>\n",
       "</div>"
      ],
      "text/plain": [
       "   employee_id  company_id              dept  seniority    salary   join_date   quit_date\n",
       "0      13021.0           7  customer_service         28   89000.0  2014-03-24  2015-10-30\n",
       "1     825355.0           7         marketing         20  183000.0  2013-04-29  2014-04-04\n",
       "2     927315.0           4         marketing         14  101000.0  2014-10-13         NaN\n",
       "3     662910.0           7  customer_service         20  115000.0  2012-05-14  2013-06-07\n",
       "4     256971.0           2      data_science         23  276000.0  2011-10-17  2014-08-22"
      ]
     },
     "execution_count": 2,
     "metadata": {},
     "output_type": "execute_result"
    }
   ],
   "source": [
    "data = pd.read_csv(\"../data/3_employee_retention/employee_retention.csv\")\n",
    "print(data.shape)\n",
    "data.head()"
   ]
  },
  {
   "cell_type": "code",
   "execution_count": 3,
   "metadata": {
    "ExecuteTime": {
     "end_time": "2020-03-02T23:57:30.535211Z",
     "start_time": "2020-03-02T23:57:30.478864Z"
    }
   },
   "outputs": [
    {
     "data": {
      "text/html": [
       "<div>\n",
       "<style scoped>\n",
       "    .dataframe tbody tr th:only-of-type {\n",
       "        vertical-align: middle;\n",
       "    }\n",
       "\n",
       "    .dataframe tbody tr th {\n",
       "        vertical-align: top;\n",
       "    }\n",
       "\n",
       "    .dataframe thead th {\n",
       "        text-align: right;\n",
       "    }\n",
       "</style>\n",
       "<table border=\"1\" class=\"dataframe\">\n",
       "  <thead>\n",
       "    <tr style=\"text-align: right;\">\n",
       "      <th></th>\n",
       "      <th>employee_id</th>\n",
       "      <th>company_id</th>\n",
       "      <th>dept</th>\n",
       "      <th>seniority</th>\n",
       "      <th>salary</th>\n",
       "      <th>join_date</th>\n",
       "      <th>quit_date</th>\n",
       "    </tr>\n",
       "  </thead>\n",
       "  <tbody>\n",
       "    <tr>\n",
       "      <th>count</th>\n",
       "      <td>24702.000000</td>\n",
       "      <td>24702.000000</td>\n",
       "      <td>24702</td>\n",
       "      <td>24702.000000</td>\n",
       "      <td>24702.000000</td>\n",
       "      <td>24702</td>\n",
       "      <td>13510</td>\n",
       "    </tr>\n",
       "    <tr>\n",
       "      <th>unique</th>\n",
       "      <td>NaN</td>\n",
       "      <td>NaN</td>\n",
       "      <td>6</td>\n",
       "      <td>NaN</td>\n",
       "      <td>NaN</td>\n",
       "      <td>995</td>\n",
       "      <td>664</td>\n",
       "    </tr>\n",
       "    <tr>\n",
       "      <th>top</th>\n",
       "      <td>NaN</td>\n",
       "      <td>NaN</td>\n",
       "      <td>customer_service</td>\n",
       "      <td>NaN</td>\n",
       "      <td>NaN</td>\n",
       "      <td>2012-01-03 00:00:00</td>\n",
       "      <td>2015-05-08 00:00:00</td>\n",
       "    </tr>\n",
       "    <tr>\n",
       "      <th>freq</th>\n",
       "      <td>NaN</td>\n",
       "      <td>NaN</td>\n",
       "      <td>9180</td>\n",
       "      <td>NaN</td>\n",
       "      <td>NaN</td>\n",
       "      <td>105</td>\n",
       "      <td>111</td>\n",
       "    </tr>\n",
       "    <tr>\n",
       "      <th>first</th>\n",
       "      <td>NaN</td>\n",
       "      <td>NaN</td>\n",
       "      <td>NaN</td>\n",
       "      <td>NaN</td>\n",
       "      <td>NaN</td>\n",
       "      <td>2011-01-24 00:00:00</td>\n",
       "      <td>2011-10-13 00:00:00</td>\n",
       "    </tr>\n",
       "    <tr>\n",
       "      <th>last</th>\n",
       "      <td>NaN</td>\n",
       "      <td>NaN</td>\n",
       "      <td>NaN</td>\n",
       "      <td>NaN</td>\n",
       "      <td>NaN</td>\n",
       "      <td>2015-12-10 00:00:00</td>\n",
       "      <td>2015-12-09 00:00:00</td>\n",
       "    </tr>\n",
       "    <tr>\n",
       "      <th>mean</th>\n",
       "      <td>501604.403530</td>\n",
       "      <td>3.426969</td>\n",
       "      <td>NaN</td>\n",
       "      <td>14.127803</td>\n",
       "      <td>138183.345478</td>\n",
       "      <td>NaN</td>\n",
       "      <td>NaN</td>\n",
       "    </tr>\n",
       "    <tr>\n",
       "      <th>std</th>\n",
       "      <td>288909.026101</td>\n",
       "      <td>2.700011</td>\n",
       "      <td>NaN</td>\n",
       "      <td>8.089520</td>\n",
       "      <td>76058.184573</td>\n",
       "      <td>NaN</td>\n",
       "      <td>NaN</td>\n",
       "    </tr>\n",
       "    <tr>\n",
       "      <th>min</th>\n",
       "      <td>36.000000</td>\n",
       "      <td>1.000000</td>\n",
       "      <td>NaN</td>\n",
       "      <td>1.000000</td>\n",
       "      <td>17000.000000</td>\n",
       "      <td>NaN</td>\n",
       "      <td>NaN</td>\n",
       "    </tr>\n",
       "    <tr>\n",
       "      <th>25%</th>\n",
       "      <td>250133.750000</td>\n",
       "      <td>1.000000</td>\n",
       "      <td>NaN</td>\n",
       "      <td>7.000000</td>\n",
       "      <td>79000.000000</td>\n",
       "      <td>NaN</td>\n",
       "      <td>NaN</td>\n",
       "    </tr>\n",
       "    <tr>\n",
       "      <th>50%</th>\n",
       "      <td>500793.000000</td>\n",
       "      <td>2.000000</td>\n",
       "      <td>NaN</td>\n",
       "      <td>14.000000</td>\n",
       "      <td>123000.000000</td>\n",
       "      <td>NaN</td>\n",
       "      <td>NaN</td>\n",
       "    </tr>\n",
       "    <tr>\n",
       "      <th>75%</th>\n",
       "      <td>753137.250000</td>\n",
       "      <td>5.000000</td>\n",
       "      <td>NaN</td>\n",
       "      <td>21.000000</td>\n",
       "      <td>187000.000000</td>\n",
       "      <td>NaN</td>\n",
       "      <td>NaN</td>\n",
       "    </tr>\n",
       "    <tr>\n",
       "      <th>max</th>\n",
       "      <td>999969.000000</td>\n",
       "      <td>12.000000</td>\n",
       "      <td>NaN</td>\n",
       "      <td>99.000000</td>\n",
       "      <td>408000.000000</td>\n",
       "      <td>NaN</td>\n",
       "      <td>NaN</td>\n",
       "    </tr>\n",
       "  </tbody>\n",
       "</table>\n",
       "</div>"
      ],
      "text/plain": [
       "          employee_id    company_id              dept     seniority         salary            join_date            quit_date\n",
       "count    24702.000000  24702.000000             24702  24702.000000   24702.000000                24702                13510\n",
       "unique            NaN           NaN                 6           NaN            NaN                  995                  664\n",
       "top               NaN           NaN  customer_service           NaN            NaN  2012-01-03 00:00:00  2015-05-08 00:00:00\n",
       "freq              NaN           NaN              9180           NaN            NaN                  105                  111\n",
       "first             NaN           NaN               NaN           NaN            NaN  2011-01-24 00:00:00  2011-10-13 00:00:00\n",
       "last              NaN           NaN               NaN           NaN            NaN  2015-12-10 00:00:00  2015-12-09 00:00:00\n",
       "mean    501604.403530      3.426969               NaN     14.127803  138183.345478                  NaN                  NaN\n",
       "std     288909.026101      2.700011               NaN      8.089520   76058.184573                  NaN                  NaN\n",
       "min         36.000000      1.000000               NaN      1.000000   17000.000000                  NaN                  NaN\n",
       "25%     250133.750000      1.000000               NaN      7.000000   79000.000000                  NaN                  NaN\n",
       "50%     500793.000000      2.000000               NaN     14.000000  123000.000000                  NaN                  NaN\n",
       "75%     753137.250000      5.000000               NaN     21.000000  187000.000000                  NaN                  NaN\n",
       "max     999969.000000     12.000000               NaN     99.000000  408000.000000                  NaN                  NaN"
      ]
     },
     "execution_count": 3,
     "metadata": {},
     "output_type": "execute_result"
    }
   ],
   "source": [
    "from datetime import datetime\n",
    "  \n",
    "#make them a date\n",
    "data['join_date'] = pd.to_datetime(data['join_date']) \n",
    "data['quit_date'] = pd.to_datetime(data['quit_date']) \n",
    "  \n",
    "#everything seems to make sense, some simple plots would help double check that\n",
    "data.describe(include=\"all\")"
   ]
  },
  {
   "cell_type": "code",
   "execution_count": 6,
   "metadata": {
    "ExecuteTime": {
     "end_time": "2020-03-03T00:05:34.647972Z",
     "start_time": "2020-03-03T00:05:34.605015Z"
    }
   },
   "outputs": [
    {
     "name": "stdout",
     "output_type": "stream",
     "text": [
      "          date  company_id  count\n",
      "4   2011-01-24           1   25.0\n",
      "16  2011-01-25           1   27.0\n",
      "28  2011-01-26           1   29.0\n",
      "40  2011-01-27           1   29.0\n",
      "52  2011-01-28           1   29.0\n",
      "64  2011-01-29           1   29.0\n",
      "76  2011-01-30           1   29.0\n",
      "88  2011-01-31           1   59.0\n",
      "100 2011-02-01           1   66.0\n",
      "112 2011-02-02           1   67.0\n",
      "124 2011-02-03           1   67.0\n",
      "136 2011-02-04           1   67.0\n",
      "148 2011-02-05           1   67.0\n",
      "160 2011-02-06           1   67.0\n",
      "172 2011-02-07           1   99.0\n"
     ]
    }
   ],
   "source": [
    " \n",
    "#create list of unique dates for the tables\n",
    "unique_dates = pd.date_range(start='2011/01/24', end='2015/12/13')\n",
    "  \n",
    "#create list of unique companies\n",
    "unique_companies = data['company_id'].unique()\n",
    "  \n",
    "#cross join so I get all combinations of dates and companies. Will need it later.\n",
    "data_headcount = pd.MultiIndex.from_product([unique_dates, unique_companies], names = [\"date\", \"company_id\"])\n",
    "data_headcount = pd.DataFrame(index = data_headcount).reset_index()\n",
    "  \n",
    "#now I get for each day/company, how many people quit/got hired on that day\n",
    "data_join = data.groupby(['join_date', 'company_id']).size().reset_index(name='join_count')\n",
    "data_join.columns.values[0]='date'\n",
    "data_quit = data.groupby(['quit_date', 'company_id']).size().reset_index(name='quit_count')\n",
    "data_quit.columns.values[0]='date'\n",
    "  \n",
    "#Now I left outer join with data_headcount. \n",
    "#NA means no people were hired/quit on that day cause there is no match.\n",
    "data_headcount = pd.merge(data_headcount, data_join, on=[\"date\", \"company_id\"], how='left')\n",
    "data_headcount = pd.merge(data_headcount, data_quit, on=[\"date\", \"company_id\"], how='left')\n",
    "  \n",
    "#replace the NAs with 0\n",
    "data_headcount.fillna(0, inplace=True)\n",
    "  \n",
    "#Now I need the sum by company_id. Data set is already ordered by date, so I can simply group by company_id and do cumsum\n",
    "data_headcount['cumsum_join'] = data_headcount.groupby(['company_id'])['join_count'].apply(lambda x: x.cumsum())\n",
    "data_headcount['cumsum_quit'] = data_headcount.groupby(['company_id'])['quit_count'].apply(lambda x: x.cumsum())\n",
    "  \n",
    "#finally, for each date I just take join_count - quit_count and I am done\n",
    "data_headcount['count'] = data_headcount['cumsum_join'] - data_headcount['cumsum_quit']\n",
    "data_headcount_table = data_headcount[[\"date\", \"company_id\",\"count\"]]\n",
    "  \n",
    "#let's check company 1\n",
    "print(data_headcount_table.query(\"company_id == 1\").head(15))"
   ]
  },
  {
   "cell_type": "code",
   "execution_count": 8,
   "metadata": {
    "ExecuteTime": {
     "end_time": "2020-03-03T00:06:50.681543Z",
     "start_time": "2020-03-03T00:06:09.831239Z"
    },
    "collapsed": true
   },
   "outputs": [
    {
     "name": "stdout",
     "output_type": "stream",
     "text": [
      "          date  company_id  count\n",
      "4   2011-01-24           1     25\n",
      "16  2011-01-25           1     27\n",
      "28  2011-01-26           1     29\n",
      "40  2011-01-27           1     29\n",
      "52  2011-01-28           1     29\n",
      "64  2011-01-29           1     29\n",
      "76  2011-01-30           1     29\n",
      "88  2011-01-31           1     59\n",
      "100 2011-02-01           1     66\n",
      "112 2011-02-02           1     67\n",
      "124 2011-02-03           1     67\n",
      "136 2011-02-04           1     67\n",
      "148 2011-02-05           1     67\n",
      "160 2011-02-06           1     67\n",
      "172 2011-02-07           1     99\n"
     ]
    }
   ],
   "source": [
    "#Another way to do it would be with a for loop. \n",
    "#intialize empty vectors\n",
    "loop_cumsum = []\n",
    "loop_date = []\n",
    "loop_company = []\n",
    "#loop through all days\n",
    "for i in unique_dates:\n",
    "  # loop through all companies\n",
    "   for j in unique_companies:\n",
    "        # count joins until that day\n",
    "        tmp_join = data[(data['join_date'] <= i) & (data['company_id'] == j)].shape[0]\n",
    "        # count quits\n",
    "        tmp_quit = data[(data['quit_date'] <= i) & (data['company_id'] == j)].shape[0]\n",
    "        loop_cumsum.append(tmp_join - tmp_quit) \n",
    "        loop_date.append(i)\n",
    "        loop_company.append(j)\n",
    "data_headcount_table_loop = pd.DataFrame({ 'date': loop_date, 'company_id': loop_company, 'count': loop_cumsum})\n",
    "#let's check company 1\n",
    "print(data_headcount_table_loop.query(\"company_id == 1\").head(15))"
   ]
  },
  {
   "cell_type": "code",
   "execution_count": 9,
   "metadata": {
    "ExecuteTime": {
     "end_time": "2020-03-03T00:06:50.885408Z",
     "start_time": "2020-03-03T00:06:50.682863Z"
    }
   },
   "outputs": [
    {
     "data": {
      "image/png": "[encoded data removed]",
      "text/plain": [
       "<Figure size 432x288 with 1 Axes>"
      ]
     },
     "metadata": {
      "needs_background": "light"
     },
     "output_type": "display_data"
    }
   ],
   "source": [
    "#How many days were they employed? This should matter. People might get bored in the same place for too long\n",
    "data['employment_length'] = (data['quit_date'] - data['join_date']).astype('timedelta64[D]')\n",
    "  \n",
    "#Let's plot employment length in days\n",
    "plt.hist(data['employment_length'].dropna(), bins=100)\n",
    "plt.show()"
   ]
  },
  {
   "cell_type": "code",
   "execution_count": 10,
   "metadata": {
    "ExecuteTime": {
     "end_time": "2020-03-03T00:07:59.526534Z",
     "start_time": "2020-03-03T00:07:59.517166Z"
    }
   },
   "outputs": [
    {
     "name": "stderr",
     "output_type": "stream",
     "text": [
      "/home/ww6p9/anaconda3/lib/python3.7/site-packages/ipykernel_launcher.py:4: SettingWithCopyWarning: \n",
      "A value is trying to be set on a copy of a slice from a DataFrame.\n",
      "Try using .loc[row_indexer,col_indexer] = value instead\n",
      "\n",
      "See the caveats in the documentation: http://pandas.pydata.org/pandas-docs/stable/user_guide/indexing.html#returning-a-view-versus-a-copy\n",
      "  after removing the cwd from sys.path.\n"
     ]
    }
   ],
   "source": [
    "from datetime import timedelta\n",
    "#Create binary class\n",
    "data=data[data['join_date'] <datetime.strptime(\"2015/12/13\", \"%Y/%m/%d\") - timedelta(days=(365+31))]\n",
    "data['early_quitter'] = np.where((data['employment_length']>396) | (np.isnan(data['employment_length'])), 0, 1)"
   ]
  },
  {
   "cell_type": "code",
   "execution_count": 13,
   "metadata": {
    "ExecuteTime": {
     "end_time": "2020-03-03T00:08:41.868622Z",
     "start_time": "2020-03-03T00:08:41.815805Z"
    }
   },
   "outputs": [
    {
     "data": {
      "text/plain": [
       "'tree_employee.dot.pdf'"
      ]
     },
     "execution_count": 13,
     "metadata": {},
     "output_type": "execute_result"
    }
   ],
   "source": [
    "import graphviz\n",
    "from sklearn.tree import DecisionTreeClassifier\n",
    "from sklearn.tree import export_graphviz\n",
    "from graphviz import Source\n",
    "  \n",
    "data_dummy = pd.get_dummies(data[['company_id', 'dept', 'seniority', 'salary', 'early_quitter']], drop_first=True)           \n",
    "  \n",
    "#we are not too interested in predictive power, we are mainly using the tree as a descriptive stat tool\n",
    "tree = DecisionTreeClassifier( max_depth=4, min_samples_leaf = 30, class_weight=\"balanced\", min_impurity_decrease = 0.001)\n",
    "tree.fit(data_dummy.drop('early_quitter', axis=1), data['early_quitter'])\n",
    "  \n",
    "#visualize it\n",
    "export_graphviz(tree, out_file=\"tree_employee.dot\", feature_names=data_dummy.drop('early_quitter', axis=1).columns, proportion=True, rotate=True)\n",
    "with open(\"tree_employee.dot\") as f:\n",
    "    dot_graph = f.read()\n",
    "s = Source.from_file(\"tree_employee.dot\")\n",
    "s.view()"
   ]
  },
  {
   "cell_type": "code",
   "execution_count": 15,
   "metadata": {
    "ExecuteTime": {
     "end_time": "2020-03-03T00:17:08.829486Z",
     "start_time": "2020-03-03T00:17:08.728476Z"
    }
   },
   "outputs": [
    {
     "name": "stderr",
     "output_type": "stream",
     "text": [
      "/home/ww6p9/anaconda3/lib/python3.7/site-packages/ipykernel_launcher.py:2: SettingWithCopyWarning: \n",
      "A value is trying to be set on a copy of a slice from a DataFrame.\n",
      "Try using .loc[row_indexer,col_indexer] = value instead\n",
      "\n",
      "See the caveats in the documentation: http://pandas.pydata.org/pandas-docs/stable/user_guide/indexing.html#returning-a-view-versus-a-copy\n",
      "  \n"
     ]
    },
    {
     "data": {
      "image/png": "[encoded data removed]",
      "text/plain": [
       "<Figure size 432x288 with 1 Axes>"
      ]
     },
     "metadata": {
      "needs_background": "light"
     },
     "output_type": "display_data"
    }
   ],
   "source": [
    "#convert salary to its percentiles. We break it into 50 bins.\n",
    "data['salary_percentile'] = pd.qcut(data['salary'],q=50, labels=False)\n",
    "#take proportion of early quitters for each percentile value and plot it\n",
    "data.groupby('salary_percentile')['early_quitter'].mean().plot(title=\"Proportion of early quitters\")\n",
    "plt.show()"
   ]
  },
  {
   "cell_type": "markdown",
   "metadata": {},
   "source": [
    "\n",
    "\n",
    "- Given how important is salary, I would definitely love to have as a variable the salary the employee who quit was offered in the next job. Otherwise, things like: promotions or raises received during the employee tenure would be interesting. Understanding the trajectory of someone via their salaries at different time points could be really useful.\n",
    "\n",
    "- Employees tend to quit at year anniversaries. Even if you don’t like your current job, you often stay for 1 yr before quitting + you often get stocks after 1 yr so it makes sense to wait.\n",
    "\n",
    "- Employees with low and high salaries are less likely to quit. Probably because employees with high salaries are happy there and employees with low salaries are not that marketable, so they have a harder time finding a new job. Obviously, those are totally different situations.\n",
    "\n",
    "- When building machine learning models on real data, you will find surprisingly often that one variable is way more important than the rest. We saw it in the conversion project too with number of pages visited. It is unlikely though that in real life one thing can explain complex phenomena. The most likely reason is that one variable is highly correlated with a lot of other variables. Like here, salary is obviously important, but especially because it is a proxy for so many other things (seniority, how marketable is someone, how much that person feels appreciated at work, etc). In these cases, assuming you have access to many other variables, try to get to the bottom of these relationships, by for instance building a model that predicts salary or removing salary and see which variables start to matter. After all, our model says that low salaries are less likely to quit. But definitely, it is not that if you reduce all salaries below 60K, retention will go up…\n"
   ]
  },
  {
   "cell_type": "code",
   "execution_count": null,
   "metadata": {},
   "outputs": [],
   "source": []
  },
  {
   "cell_type": "code",
   "execution_count": null,
   "metadata": {},
   "outputs": [],
   "source": []
  },
  {
   "cell_type": "code",
   "execution_count": null,
   "metadata": {},
   "outputs": [],
   "source": []
  },
  {
   "cell_type": "code",
   "execution_count": null,
   "metadata": {},
   "outputs": [],
   "source": []
  },
  {
   "cell_type": "code",
   "execution_count": null,
   "metadata": {},
   "outputs": [],
   "source": []
  },
  {
   "cell_type": "code",
   "execution_count": null,
   "metadata": {},
   "outputs": [],
   "source": []
  },
  {
   "cell_type": "code",
   "execution_count": null,
   "metadata": {},
   "outputs": [],
   "source": []
  },
  {
   "cell_type": "code",
   "execution_count": null,
   "metadata": {},
   "outputs": [],
   "source": []
  },
  {
   "cell_type": "code",
   "execution_count": null,
   "metadata": {},
   "outputs": [],
   "source": []
  },
  {
   "cell_type": "code",
   "execution_count": null,
   "metadata": {},
   "outputs": [],
   "source": []
  },
  {
   "cell_type": "code",
   "execution_count": null,
   "metadata": {},
   "outputs": [],
   "source": []
  },
  {
   "cell_type": "code",
   "execution_count": null,
   "metadata": {},
   "outputs": [],
   "source": []
  }
 ],
 "metadata": {
  "kernelspec": {
   "display_name": "Python 3",
   "language": "python",
   "name": "python3"
  },
  "language_info": {
   "codemirror_mode": {
    "name": "ipython",
    "version": 3
   },
   "file_extension": ".py",
   "mimetype": "text/x-python",
   "name": "python",
   "nbconvert_exporter": "python",
   "pygments_lexer": "ipython3",
   "version": "3.7.5"
  }
 },
 "nbformat": 4,
 "nbformat_minor": 2
}
