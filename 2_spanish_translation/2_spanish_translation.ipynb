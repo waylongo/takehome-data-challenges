{
 "cells": [
  {
   "cell_type": "code",
   "execution_count": 1,
   "metadata": {
    "ExecuteTime": {
     "end_time": "2020-03-02T23:46:25.156488Z",
     "start_time": "2020-03-02T23:46:24.884945Z"
    }
   },
   "outputs": [],
   "source": [
    "import numpy as np\n",
    "import pandas as pd\n",
    "import matplotlib.pyplot as plt\n",
    "\n",
    "pd.set_option('display.max_columns', 20)\n",
    "pd.set_option('display.width', 350)"
   ]
  },
  {
   "cell_type": "code",
   "execution_count": 2,
   "metadata": {
    "ExecuteTime": {
     "end_time": "2020-03-02T23:46:25.268450Z",
     "start_time": "2020-03-02T23:46:25.157633Z"
    }
   },
   "outputs": [
    {
     "name": "stdout",
     "output_type": "stream",
     "text": [
      "test_table.csv\tuser_table.csv\r\n"
     ]
    }
   ],
   "source": [
    "! ls ../data/2_spanish_translation/"
   ]
  },
  {
   "cell_type": "code",
   "execution_count": 3,
   "metadata": {
    "ExecuteTime": {
     "end_time": "2020-03-02T23:46:25.686601Z",
     "start_time": "2020-03-02T23:46:25.271008Z"
    }
   },
   "outputs": [
    {
     "name": "stdout",
     "output_type": "stream",
     "text": [
      "(452867, 4) (453321, 9)\n"
     ]
    }
   ],
   "source": [
    "user = pd.read_csv(\"../data/2_spanish_translation/user_table.csv\")\n",
    "test = pd.read_csv(\"../data/2_spanish_translation/test_table.csv\")\n",
    "  \n",
    "print(user.shape, test.shape)"
   ]
  },
  {
   "cell_type": "code",
   "execution_count": 4,
   "metadata": {
    "ExecuteTime": {
     "end_time": "2020-03-02T23:46:25.708315Z",
     "start_time": "2020-03-02T23:46:25.687803Z"
    }
   },
   "outputs": [
    {
     "data": {
      "text/plain": [
       "453321"
      ]
     },
     "execution_count": 4,
     "metadata": {},
     "output_type": "execute_result"
    }
   ],
   "source": [
    "test.user_id.nunique()"
   ]
  },
  {
   "cell_type": "code",
   "execution_count": 5,
   "metadata": {
    "ExecuteTime": {
     "end_time": "2020-03-02T23:46:25.740518Z",
     "start_time": "2020-03-02T23:46:25.709332Z"
    }
   },
   "outputs": [
    {
     "name": "stdout",
     "output_type": "stream",
     "text": [
      "True\n",
      "True\n"
     ]
    }
   ],
   "source": [
    "print(test['user_id'].nunique()==len(test['user_id']))\n",
    "print(user['user_id'].nunique()==len(user['user_id']))"
   ]
  },
  {
   "cell_type": "code",
   "execution_count": 6,
   "metadata": {
    "ExecuteTime": {
     "end_time": "2020-03-02T23:46:25.743914Z",
     "start_time": "2020-03-02T23:46:25.741566Z"
    }
   },
   "outputs": [
    {
     "name": "stdout",
     "output_type": "stream",
     "text": [
      "-454\n"
     ]
    }
   ],
   "source": [
    "print(len(user['user_id']) - len(test['user_id']))"
   ]
  },
  {
   "cell_type": "code",
   "execution_count": 7,
   "metadata": {
    "ExecuteTime": {
     "end_time": "2020-03-02T23:46:26.294026Z",
     "start_time": "2020-03-02T23:46:25.744790Z"
    }
   },
   "outputs": [
    {
     "name": "stdout",
     "output_type": "stream",
     "text": [
      "               user_id                 date  source  device browser_language ads_channel      browser     conversion           test     sex            age country\n",
      "count    452867.000000               452867  452867  452867           452867      181693       452867  452867.000000  452867.000000  452867  452867.000000  452867\n",
      "unique             NaN                    5       3       2                3           5            7            NaN            NaN       2            NaN      17\n",
      "top                NaN  2015-12-04 00:00:00     Ads     Web               ES    Facebook  Android_App            NaN            NaN       M            NaN  Mexico\n",
      "freq               NaN               141024  181693  251316           377160       68358       154977            NaN            NaN  264485            NaN  128484\n",
      "first              NaN  2015-11-30 00:00:00     NaN     NaN              NaN         NaN          NaN            NaN            NaN     NaN            NaN     NaN\n",
      "last               NaN  2015-12-04 00:00:00     NaN     NaN              NaN         NaN          NaN            NaN            NaN     NaN            NaN     NaN\n",
      "mean     499944.805166                  NaN     NaN     NaN              NaN         NaN          NaN       0.049560       0.476462     NaN      27.130740     NaN\n",
      "std      288676.264784                  NaN     NaN     NaN              NaN         NaN          NaN       0.217034       0.499446     NaN       6.776678     NaN\n",
      "min           1.000000                  NaN     NaN     NaN              NaN         NaN          NaN       0.000000       0.000000     NaN      18.000000     NaN\n",
      "25%      249819.000000                  NaN     NaN     NaN              NaN         NaN          NaN       0.000000       0.000000     NaN      22.000000     NaN\n",
      "50%      500019.000000                  NaN     NaN     NaN              NaN         NaN          NaN       0.000000       0.000000     NaN      26.000000     NaN\n",
      "75%      749543.000000                  NaN     NaN     NaN              NaN         NaN          NaN       0.000000       1.000000     NaN      31.000000     NaN\n",
      "max     1000000.000000                  NaN     NaN     NaN              NaN         NaN          NaN       1.000000       1.000000     NaN      70.000000     NaN\n"
     ]
    }
   ],
   "source": [
    "# join\n",
    "data = test.merge(user, on=['user_id'])\n",
    "  \n",
    "#make it a date\n",
    "data[\"date\"]   = pd.to_datetime(data[\"date\"])\n",
    "print(data.describe(include=\"all\"))"
   ]
  },
  {
   "cell_type": "code",
   "execution_count": 8,
   "metadata": {
    "ExecuteTime": {
     "end_time": "2020-03-02T23:46:26.305635Z",
     "start_time": "2020-03-02T23:46:26.295952Z"
    }
   },
   "outputs": [
    {
     "data": {
      "text/html": [
       "<div>\n",
       "<style scoped>\n",
       "    .dataframe tbody tr th:only-of-type {\n",
       "        vertical-align: middle;\n",
       "    }\n",
       "\n",
       "    .dataframe tbody tr th {\n",
       "        vertical-align: top;\n",
       "    }\n",
       "\n",
       "    .dataframe thead th {\n",
       "        text-align: right;\n",
       "    }\n",
       "</style>\n",
       "<table border=\"1\" class=\"dataframe\">\n",
       "  <thead>\n",
       "    <tr style=\"text-align: right;\">\n",
       "      <th></th>\n",
       "      <th>user_id</th>\n",
       "      <th>date</th>\n",
       "      <th>source</th>\n",
       "      <th>device</th>\n",
       "      <th>browser_language</th>\n",
       "      <th>ads_channel</th>\n",
       "      <th>browser</th>\n",
       "      <th>conversion</th>\n",
       "      <th>test</th>\n",
       "      <th>sex</th>\n",
       "      <th>age</th>\n",
       "      <th>country</th>\n",
       "    </tr>\n",
       "  </thead>\n",
       "  <tbody>\n",
       "    <tr>\n",
       "      <th>0</th>\n",
       "      <td>315281</td>\n",
       "      <td>2015-12-03</td>\n",
       "      <td>Direct</td>\n",
       "      <td>Web</td>\n",
       "      <td>ES</td>\n",
       "      <td>NaN</td>\n",
       "      <td>IE</td>\n",
       "      <td>1</td>\n",
       "      <td>0</td>\n",
       "      <td>M</td>\n",
       "      <td>32</td>\n",
       "      <td>Spain</td>\n",
       "    </tr>\n",
       "    <tr>\n",
       "      <th>1</th>\n",
       "      <td>497851</td>\n",
       "      <td>2015-12-04</td>\n",
       "      <td>Ads</td>\n",
       "      <td>Web</td>\n",
       "      <td>ES</td>\n",
       "      <td>Google</td>\n",
       "      <td>IE</td>\n",
       "      <td>0</td>\n",
       "      <td>1</td>\n",
       "      <td>M</td>\n",
       "      <td>21</td>\n",
       "      <td>Mexico</td>\n",
       "    </tr>\n",
       "    <tr>\n",
       "      <th>2</th>\n",
       "      <td>848402</td>\n",
       "      <td>2015-12-04</td>\n",
       "      <td>Ads</td>\n",
       "      <td>Web</td>\n",
       "      <td>ES</td>\n",
       "      <td>Facebook</td>\n",
       "      <td>Chrome</td>\n",
       "      <td>0</td>\n",
       "      <td>0</td>\n",
       "      <td>M</td>\n",
       "      <td>34</td>\n",
       "      <td>Spain</td>\n",
       "    </tr>\n",
       "    <tr>\n",
       "      <th>3</th>\n",
       "      <td>290051</td>\n",
       "      <td>2015-12-03</td>\n",
       "      <td>Ads</td>\n",
       "      <td>Mobile</td>\n",
       "      <td>Other</td>\n",
       "      <td>Facebook</td>\n",
       "      <td>Android_App</td>\n",
       "      <td>0</td>\n",
       "      <td>1</td>\n",
       "      <td>F</td>\n",
       "      <td>22</td>\n",
       "      <td>Mexico</td>\n",
       "    </tr>\n",
       "    <tr>\n",
       "      <th>4</th>\n",
       "      <td>548435</td>\n",
       "      <td>2015-11-30</td>\n",
       "      <td>Ads</td>\n",
       "      <td>Web</td>\n",
       "      <td>ES</td>\n",
       "      <td>Google</td>\n",
       "      <td>FireFox</td>\n",
       "      <td>0</td>\n",
       "      <td>1</td>\n",
       "      <td>M</td>\n",
       "      <td>19</td>\n",
       "      <td>Mexico</td>\n",
       "    </tr>\n",
       "  </tbody>\n",
       "</table>\n",
       "</div>"
      ],
      "text/plain": [
       "   user_id       date  source  device browser_language ads_channel      browser  conversion  test sex  age country\n",
       "0   315281 2015-12-03  Direct     Web               ES         NaN           IE           1     0   M   32   Spain\n",
       "1   497851 2015-12-04     Ads     Web               ES      Google           IE           0     1   M   21  Mexico\n",
       "2   848402 2015-12-04     Ads     Web               ES    Facebook       Chrome           0     0   M   34   Spain\n",
       "3   290051 2015-12-03     Ads  Mobile            Other    Facebook  Android_App           0     1   F   22  Mexico\n",
       "4   548435 2015-11-30     Ads     Web               ES      Google      FireFox           0     1   M   19  Mexico"
      ]
     },
     "execution_count": 8,
     "metadata": {},
     "output_type": "execute_result"
    }
   ],
   "source": [
    "data.head()"
   ]
  },
  {
   "cell_type": "code",
   "execution_count": 9,
   "metadata": {
    "ExecuteTime": {
     "end_time": "2020-03-02T23:46:26.474772Z",
     "start_time": "2020-03-02T23:46:26.306762Z"
    }
   },
   "outputs": [
    {
     "name": "stdout",
     "output_type": "stream",
     "text": [
      "country\n",
      "Spain          0.079719\n",
      "El Salvador    0.053554\n",
      "Nicaragua      0.052647\n",
      "Costa Rica     0.052256\n",
      "Colombia       0.052089\n",
      "Honduras       0.050906\n",
      "Guatemala      0.050643\n",
      "Venezuela      0.050344\n",
      "Peru           0.049914\n",
      "Mexico         0.049495\n",
      "Bolivia        0.049369\n",
      "Ecuador        0.049154\n",
      "Paraguay       0.048493\n",
      "Chile          0.048107\n",
      "Panama         0.046796\n",
      "Argentina      0.015071\n",
      "Uruguay        0.012048\n",
      "Name: conversion, dtype: float64\n"
     ]
    }
   ],
   "source": [
    "country_conversion = data.query('test == 0').groupby('country')['conversion'].mean()\n",
    "  \n",
    "print(country_conversion.sort_values(ascending=False))"
   ]
  },
  {
   "cell_type": "code",
   "execution_count": 10,
   "metadata": {
    "ExecuteTime": {
     "end_time": "2020-03-02T23:46:26.661983Z",
     "start_time": "2020-03-02T23:46:26.475809Z"
    }
   },
   "outputs": [
    {
     "name": "stdout",
     "output_type": "stream",
     "text": [
      "test\n",
      "0    0.048292\n",
      "1    0.043411\n",
      "Name: conversion, dtype: float64\n"
     ]
    }
   ],
   "source": [
    "#a simple t-test here should work. We have collected ~0.5MM data and test/control split is ~50/50.\n",
    "from scipy import stats\n",
    "  \n",
    "#nothing changed in Spain, so no point in keeping those users\n",
    "data = data.query('country != \"Spain\"') \n",
    "  \n",
    "#t-test of test vs control for our target metric \n",
    "test = stats.ttest_ind(data[data['test'] == 1]['conversion'], \n",
    "                       data[data['test'] == 0]['conversion'], \n",
    "                       equal_var=False\n",
    "                       )\n",
    "  \n",
    "print(data.groupby('test')['conversion'].mean())"
   ]
  },
  {
   "cell_type": "code",
   "execution_count": 11,
   "metadata": {
    "ExecuteTime": {
     "end_time": "2020-03-02T23:46:26.665620Z",
     "start_time": "2020-03-02T23:46:26.662890Z"
    }
   },
   "outputs": [
    {
     "name": "stdout",
     "output_type": "stream",
     "text": [
      "-7.353895203080277\n",
      "1.9289178577799033e-13\n"
     ]
    }
   ],
   "source": [
    "print(test.statistic)\n",
    "print(test.pvalue)"
   ]
  },
  {
   "cell_type": "markdown",
   "metadata": {},
   "source": [
    "Mmh…control users are converting at 4.8% while users in the test just at 4.3%. That’s a 10% drop, which would be dramatic if it were true. The most likely reason for weird A/B test results are:\n",
    "\n",
    "1) We didn’t collect enough data\n",
    "\n",
    "2) Some bias has been introduced in the experiment so that test/control people are not really random "
   ]
  },
  {
   "cell_type": "code",
   "execution_count": 12,
   "metadata": {
    "ExecuteTime": {
     "end_time": "2020-03-02T23:46:26.810678Z",
     "start_time": "2020-03-02T23:46:26.666719Z"
    }
   },
   "outputs": [
    {
     "name": "stderr",
     "output_type": "stream",
     "text": [
      "/home/ww6p9/anaconda3/lib/python3.7/site-packages/ipykernel_launcher.py:3: FutureWarning: using a dict on a Series for aggregation\n",
      "is deprecated and will be removed in a future version. Use                 named aggregation instead.\n",
      "\n",
      "    >>> grouper.agg(name_1=func_1, name_2=func_2)\n",
      "\n",
      "  This is separate from the ipykernel package so we can avoid doing imports until\n"
     ]
    },
    {
     "data": {
      "image/png": "[encoded data removed]",
      "text/plain": [
       "<Figure size 432x288 with 1 Axes>"
      ]
     },
     "metadata": {
      "needs_background": "light"
     },
     "output_type": "display_data"
    }
   ],
   "source": [
    "#compare test and control conversion rate by day and plot it\n",
    "data_test_by_day = data.groupby(\"date\")[\"conversion\"].agg({\n",
    "\"test_vs_control\": lambda x: x[data[\"test\"]==1].mean()/x[data[\"test\"]==0].mean()\n",
    "}).plot()"
   ]
  },
  {
   "cell_type": "markdown",
   "metadata": {},
   "source": [
    "From the plot, we notice a couple of things:\n",
    "\n",
    "- Test has constantly been worse than control and there is relatively little variance across days. That probably means that we do have enough data, but there was some bias in the experiment set up\n",
    "\n",
    "- As a side note, we just ran it for 5 days. We should always run the test for at least 1 full week to capture weekly patterns, 2 weeks would be much better"
   ]
  },
  {
   "cell_type": "code",
   "execution_count": 13,
   "metadata": {
    "ExecuteTime": {
     "end_time": "2020-03-02T23:46:26.844411Z",
     "start_time": "2020-03-02T23:46:26.811691Z"
    }
   },
   "outputs": [
    {
     "name": "stderr",
     "output_type": "stream",
     "text": [
      "/home/ww6p9/anaconda3/lib/python3.7/site-packages/ipykernel_launcher.py:4: FutureWarning: using a dict on a Series for aggregation\n",
      "is deprecated and will be removed in a future version. Use                 named aggregation instead.\n",
      "\n",
      "    >>> grouper.agg(name_1=func_1, name_2=func_2)\n",
      "\n",
      "  after removing the cwd from sys.path.\n"
     ]
    }
   ],
   "source": [
    "#let's group by source and estimate relative frequencies\n",
    "data_grouped_source = data.groupby(\"source\")[\"test\"].agg({\n",
    "\"frequency_test_0\": lambda x: len(x[x==0]), \n",
    "\"frequency_test_1\": lambda x: len(x[x==1])\n",
    "})\n",
    "    \n",
    "#get relative frequencies"
   ]
  },
  {
   "cell_type": "code",
   "execution_count": 14,
   "metadata": {
    "ExecuteTime": {
     "end_time": "2020-03-02T23:46:26.849215Z",
     "start_time": "2020-03-02T23:46:26.845412Z"
    }
   },
   "outputs": [
    {
     "name": "stdout",
     "output_type": "stream",
     "text": [
      "        frequency_test_0  frequency_test_1\n",
      "source                                    \n",
      "Ads             0.401228          0.400641\n",
      "Direct          0.200949          0.199500\n",
      "SEO             0.397823          0.399858\n"
     ]
    }
   ],
   "source": [
    "print(data_grouped_source/data_grouped_source.sum())"
   ]
  },
  {
   "cell_type": "markdown",
   "metadata": {},
   "source": [
    "As we can see, relative frequency of source for different segments is the same. That is, we have basically the same proportion of users coming from Ads, Direct, and SEO in both test and control."
   ]
  },
  {
   "cell_type": "code",
   "execution_count": 15,
   "metadata": {
    "ExecuteTime": {
     "end_time": "2020-03-02T23:46:29.091520Z",
     "start_time": "2020-03-02T23:46:26.850072Z"
    }
   },
   "outputs": [
    {
     "data": {
      "text/plain": [
       "'tree_test.dot.pdf'"
      ]
     },
     "execution_count": 15,
     "metadata": {},
     "output_type": "execute_result"
    }
   ],
   "source": [
    "import graphviz\n",
    "from sklearn.tree import DecisionTreeClassifier\n",
    "from sklearn.tree import export_graphviz\n",
    "from graphviz import Source\n",
    "  \n",
    "#make date as string, so few dates that makes sense to have them as few dummy values  \n",
    "data['date'] = data['date'].apply(str)\n",
    "  \n",
    "#make dummy vars. Don't drop one level here, keep them all. You don't want to risk dropping the one level that actually creates problems with the randomization\n",
    "data_dummy = pd.get_dummies(data)\n",
    "#model features, test is the label and conversion is not needed \n",
    "train_cols = data_dummy.drop(['test', 'conversion'], axis=1)\n",
    "  \n",
    "tree=DecisionTreeClassifier(\n",
    "    #change weights. Our data set is now perfectly balanced. It makes easier to understand the tree output\n",
    "    class_weight=\"balanced\",\n",
    "    #only split if if it's worthwhile. The default value of 0 means always split no matter what if you can increase overall performance, which creates tons of noisy and irrelevant splits\n",
    "    min_impurity_decrease = 0.001\n",
    "    )\n",
    "tree.fit(train_cols,data_dummy['test'])\n",
    "  \n",
    "export_graphviz(tree, out_file=\"tree_test.dot\", feature_names=train_cols.columns, proportion=True, rotate=True)\n",
    "with open(\"tree_test.dot\") as f:\n",
    "    dot_graph = f.read()\n",
    "  \n",
    "s = Source.from_file(\"tree_test.dot\")\n",
    "s.view()"
   ]
  },
  {
   "cell_type": "markdown",
   "metadata": {},
   "source": [
    "So we can see that test and control are not the same! Users from Argentina and Uruguay are way more likely to be in test than control. When country_Argentina is 1, the tree shows that users in control are ~23% and in test 77%. For Uruguay, the proportions are even more extreme: 11% in control and 89% in test! Not good! "
   ]
  },
  {
   "cell_type": "code",
   "execution_count": 16,
   "metadata": {
    "ExecuteTime": {
     "end_time": "2020-03-02T23:46:29.106122Z",
     "start_time": "2020-03-02T23:46:29.092596Z"
    }
   },
   "outputs": [
    {
     "name": "stdout",
     "output_type": "stream",
     "text": [
      "      country_Argentina  country_Uruguay\n",
      "test                                    \n",
      "0              0.050488         0.002239\n",
      "1              0.173223         0.017236\n"
     ]
    }
   ],
   "source": [
    "print(data_dummy.groupby(\"test\")[[\"country_Argentina\", \"country_Uruguay\"]].mean())"
   ]
  },
  {
   "cell_type": "markdown",
   "metadata": {},
   "source": [
    "Our tree was right! In test, 17% of users are from Argentina, but in control only 5% of users are from Argentina. Uruguay is even more extreme: test has 1.7% of users from Uruguay and control has just 0.2% of Uruguayan users.\n",
    "\n",
    "And this is a big problem because that means we are not comparing anymore apples to apples in our A/B test. The difference we might see in conversion rate might very well depend on the fact that users between the two groups are different."
   ]
  },
  {
   "cell_type": "code",
   "execution_count": 17,
   "metadata": {
    "ExecuteTime": {
     "end_time": "2020-03-02T23:46:29.185858Z",
     "start_time": "2020-03-02T23:46:29.107044Z"
    }
   },
   "outputs": [
    {
     "name": "stdout",
     "output_type": "stream",
     "text": [
      "                   data_type       p_value  t_statistic\n",
      "0                       Full  1.928918e-13    -7.353895\n",
      "1  Removed_Argentina_Uruguay  7.200849e-01     0.358346\n"
     ]
    }
   ],
   "source": [
    "#this is the test results using the orginal dataset\n",
    "original_data = stats.ttest_ind(data_dummy[data['test'] == 1]['conversion'], \n",
    "                                data_dummy[data['test'] == 0]['conversion'], \n",
    "                                equal_var=False)\n",
    "  \n",
    "#this is after removing Argentina and Uruguay\n",
    "data_no_AR_UR = stats.ttest_ind(data_dummy[(data['test'] == 1) & \n",
    "                                           (data_dummy['country_Argentina'] ==  0) & \n",
    "                                           (data_dummy['country_Uruguay'] ==  0)\n",
    "                                           ]['conversion'], \n",
    "                                data_dummy[(data['test'] == 0) & \n",
    "                                           (data_dummy['country_Argentina'] ==  0) & \n",
    "                                           (data_dummy['country_Uruguay'] ==  0)\n",
    "                                           ]['conversion'], \n",
    "                                equal_var=False)\n",
    "  \n",
    "print(\n",
    "pd.DataFrame({\"data_type\" : [\"Full\", \"Removed_Argentina_Uruguay\"], \n",
    "                  \"p_value\" : [original_data.pvalue, data_no_AR_UR.pvalue],\n",
    "                  \"t_statistic\" : [original_data.statistic, data_no_AR_UR.statistic]\n",
    "                 })\n",
    ")"
   ]
  },
  {
   "cell_type": "markdown",
   "metadata": {},
   "source": [
    "Huge difference! The biased test where some countries are over/under represented is statistically significant with negative t statistics. So test is worse than control! After removing those two countries, we get non-significant results. "
   ]
  },
  {
   "cell_type": "code",
   "execution_count": 18,
   "metadata": {
    "ExecuteTime": {
     "end_time": "2020-03-02T23:46:29.326120Z",
     "start_time": "2020-03-02T23:46:29.186760Z"
    }
   },
   "outputs": [
    {
     "name": "stderr",
     "output_type": "stream",
     "text": [
      "/home/ww6p9/anaconda3/lib/python3.7/site-packages/ipykernel_launcher.py:7: FutureWarning: using a dict on a Series for aggregation\n",
      "is deprecated and will be removed in a future version. Use                 named aggregation instead.\n",
      "\n",
      "    >>> grouper.agg(name_1=func_1, name_2=func_2)\n",
      "\n",
      "  import sys\n"
     ]
    }
   ],
   "source": [
    "data_test_country = data.groupby('country')['conversion'].agg({\n",
    "                   \"p_value\": lambda x: stats.ttest_ind(x[data[\"test\"]==1], \n",
    "                                                        x[data[\"test\"]==0], \n",
    "                                                        equal_var=False\n",
    "                                                        ).pvalue,\n",
    "                   \"conversion_test\": lambda x: x[data[\"test\"]==1].mean(),\n",
    "                   \"conversion_control\": lambda x: x[data[\"test\"]==0].mean()\n",
    "                   }).reindex(['p_value','conversion_test','conversion_control'], \n",
    "                                   axis=1\n",
    "                                 )\n",
    "                     "
   ]
  },
  {
   "cell_type": "code",
   "execution_count": 19,
   "metadata": {
    "ExecuteTime": {
     "end_time": "2020-03-02T23:46:29.331787Z",
     "start_time": "2020-03-02T23:46:29.327201Z"
    }
   },
   "outputs": [
    {
     "name": "stdout",
     "output_type": "stream",
     "text": [
      "              p_value  conversion_test  conversion_control\n",
      "country                                                   \n",
      "Mexico       0.165544         0.051186            0.049495\n",
      "El Salvador  0.248127         0.047947            0.053554\n",
      "Chile        0.302848         0.051295            0.048107\n",
      "Argentina    0.335147         0.013725            0.015071\n",
      "Colombia     0.423719         0.050571            0.052089\n",
      "Honduras     0.471463         0.047540            0.050906\n",
      "Guatemala    0.572107         0.048647            0.050643\n",
      "Venezuela    0.573702         0.048978            0.050344\n",
      "Costa Rica   0.687876         0.054738            0.052256\n",
      "Panama       0.705327         0.049370            0.046796\n",
      "Bolivia      0.718885         0.047901            0.049369\n",
      "Peru         0.771953         0.050604            0.049914\n",
      "Nicaragua    0.780400         0.054177            0.052647\n",
      "Uruguay      0.879764         0.012907            0.012048\n",
      "Paraguay     0.883697         0.049229            0.048493\n",
      "Ecuador      0.961512         0.048988            0.049154\n"
     ]
    }
   ],
   "source": [
    "print(data_test_country.sort_values(by=['p_value']))"
   ]
  },
  {
   "cell_type": "markdown",
   "metadata": {},
   "source": [
    "At this point, you have two options:\n",
    "\n",
    "- Acknowledge that there was a bug, go talk to the software engineer in charge of randomization, figure out what went wrong, fix it and re-run the test. Note that when you find a bug, it might be a sign that more things are messed up, not just the one you found. So when you find a bug, always try to get to the bottom of it\n",
    "\n",
    "- If you do find out that everything else was fine, but for some reason there was only a problem with those two countries, you can potentially adjust the weights for those two segments so that relative frequencies become the same and then re-check the test results\n"
   ]
  },
  {
   "cell_type": "code",
   "execution_count": null,
   "metadata": {},
   "outputs": [],
   "source": []
  },
  {
   "cell_type": "code",
   "execution_count": null,
   "metadata": {},
   "outputs": [],
   "source": []
  }
 ],
 "metadata": {
  "kernelspec": {
   "display_name": "Python 3",
   "language": "python",
   "name": "python3"
  },
  "language_info": {
   "codemirror_mode": {
    "name": "ipython",
    "version": 3
   },
   "file_extension": ".py",
   "mimetype": "text/x-python",
   "name": "python",
   "nbconvert_exporter": "python",
   "pygments_lexer": "ipython3",
   "version": "3.7.5"
  }
 },
 "nbformat": 4,
 "nbformat_minor": 2
}
